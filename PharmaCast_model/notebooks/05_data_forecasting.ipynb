{
 "cells": [
  {
   "cell_type": "markdown",
   "metadata": {},
   "source": [
    "# Data Forecasting"
   ]
  },
  {
   "cell_type": "markdown",
   "metadata": {},
   "source": [
    "###  Import Libraries & Load Data"
   ]
  },
  {
   "cell_type": "code",
   "execution_count": 2,
   "metadata": {},
   "outputs": [],
   "source": [
    "import pandas as pd\n",
    "import numpy as np\n",
    "import os\n",
    "from statsmodels.tsa.arima.model import ARIMA\n",
    "from statsmodels.tsa.statespace.sarimax import SARIMAX\n",
    "from statsmodels.tsa.holtwinters import ExponentialSmoothing\n",
    "from prophet import Prophet\n",
    "from keras.models import Sequential\n",
    "from keras.layers import LSTM, Dense\n",
    "from sklearn.preprocessing import MinMaxScaler\n",
    "\n",
    "# Load cleaned data\n",
    "data = pd.read_csv(\"../input/named_data_cleaned.csv\")\n",
    "data['datum'] = pd.to_datetime(data['datum'])\n",
    "data = data.set_index('datum')\n",
    "\n",
    "# Create output folder if it doesn't exist\n",
    "os.makedirs(\"../output\", exist_ok=True)\n",
    "\n",
    "# Define best models per drug\n",
    "best_models = {\n",
    "    \"Antiinflammatory\": \"HW\",\n",
    "    \"Antirheumatic\": \"SARIMA\",\n",
    "    \"Analgesics\": \"ARIMA\",\n",
    "    \"Antipyretics\": \"LSTM\",\n",
    "    \"Psycholeptics\": \"Prophet\",\n",
    "    \"Sedatives\": \"ARIMA\",\n",
    "    \"Bronchodilators\": \"LSTM\",\n",
    "    \"Antihistamines\": \"LSTM\"\n",
    "}"
   ]
  },
  {
   "cell_type": "markdown",
   "metadata": {},
   "source": [
    "### Define Forecasting Functions"
   ]
  },
  {
   "cell_type": "code",
   "execution_count": 11,
   "metadata": {},
   "outputs": [],
   "source": [
    "# ARIMA\n",
    "def forecast_arima(series, steps=12):\n",
    "    model = ARIMA(series, order=(1,1,1)).fit()\n",
    "    pred = model.forecast(steps)\n",
    "    return np.clip(pred.values, 0, None)\n",
    "\n",
    "# SARIMA\n",
    "def forecast_sarima(series, steps=12):\n",
    "    model = SARIMAX(series, order=(1,1,1), seasonal_order=(1,1,1,12)).fit(disp=False)\n",
    "    pred = model.forecast(steps)\n",
    "    return np.clip(pred.values, 0, None)\n",
    "\n",
    "# Holt-Winters\n",
    "def forecast_hw(series, steps=12):\n",
    "    model = ExponentialSmoothing(series, seasonal='add', seasonal_periods=12).fit()\n",
    "    pred = model.forecast(steps)\n",
    "    return np.clip(pred.values, 0, None)\n",
    "\n",
    "# LSTM\n",
    "def forecast_lstm(series, steps=12, n_steps=5, epochs=50):\n",
    "    scaler = MinMaxScaler()\n",
    "    scaled = scaler.fit_transform(series.values.reshape(-1,1))\n",
    "    \n",
    "    X, y = [], []\n",
    "    for i in range(len(scaled)-n_steps):\n",
    "        X.append(scaled[i:i+n_steps])\n",
    "        y.append(scaled[i+n_steps])\n",
    "    X, y = np.array(X), np.array(y)\n",
    "    \n",
    "    model = Sequential()\n",
    "    model.add(LSTM(50, activation='relu', input_shape=(n_steps,1)))\n",
    "    model.add(Dense(1))\n",
    "    model.compile(optimizer='adam', loss='mse')\n",
    "    model.fit(X, y, epochs=epochs, verbose=0)\n",
    "    \n",
    "    input_seq = scaled[-n_steps:].reshape(1, n_steps, 1)\n",
    "    preds = []\n",
    "    for _ in range(steps):\n",
    "        pred = model.predict(input_seq, verbose=0)\n",
    "        preds.append(pred[0,0])\n",
    "        pred_reshaped = pred.reshape(1,1,1)\n",
    "        input_seq = np.concatenate([input_seq[:,1:,:], pred_reshaped], axis=1)\n",
    "    \n",
    "    preds = scaler.inverse_transform(np.array(preds).reshape(-1,1)).flatten()\n",
    "    return np.clip(preds, 0, None)"
   ]
  },
  {
   "cell_type": "markdown",
   "metadata": {},
   "source": [
    "### Generate Forecasts for All Drugs"
   ]
  },
  {
   "cell_type": "code",
   "execution_count": 16,
   "metadata": {},
   "outputs": [
    {
     "name": "stderr",
     "output_type": "stream",
     "text": [
      "/opt/anaconda3/envs/hack_env/lib/python3.10/site-packages/statsmodels/tsa/base/tsa_model.py:473: ValueWarning: A date index has been provided, but it has no associated frequency information and so will be ignored when e.g. forecasting.\n",
      "  self._init_dates(dates, freq)\n",
      "/opt/anaconda3/envs/hack_env/lib/python3.10/site-packages/statsmodels/tsa/base/tsa_model.py:473: ValueWarning: A date index has been provided, but it is not monotonic and so will be ignored when e.g. forecasting.\n",
      "  self._init_dates(dates, freq)\n",
      "/opt/anaconda3/envs/hack_env/lib/python3.10/site-packages/statsmodels/tsa/base/tsa_model.py:837: ValueWarning: No supported index is available. Prediction results will be given with an integer index beginning at `start`.\n",
      "  return get_prediction_index(\n",
      "/opt/anaconda3/envs/hack_env/lib/python3.10/site-packages/statsmodels/tsa/base/tsa_model.py:837: FutureWarning: No supported index is available. In the next version, calling this method in a model without a supported index will result in an exception.\n",
      "  return get_prediction_index(\n",
      "/opt/anaconda3/envs/hack_env/lib/python3.10/site-packages/statsmodels/tsa/base/tsa_model.py:473: ValueWarning: A date index has been provided, but it has no associated frequency information and so will be ignored when e.g. forecasting.\n",
      "  self._init_dates(dates, freq)\n",
      "/opt/anaconda3/envs/hack_env/lib/python3.10/site-packages/statsmodels/tsa/base/tsa_model.py:473: ValueWarning: A date index has been provided, but it is not monotonic and so will be ignored when e.g. forecasting.\n",
      "  self._init_dates(dates, freq)\n",
      "/opt/anaconda3/envs/hack_env/lib/python3.10/site-packages/statsmodels/tsa/base/tsa_model.py:473: ValueWarning: A date index has been provided, but it has no associated frequency information and so will be ignored when e.g. forecasting.\n",
      "  self._init_dates(dates, freq)\n",
      "/opt/anaconda3/envs/hack_env/lib/python3.10/site-packages/statsmodels/tsa/base/tsa_model.py:473: ValueWarning: A date index has been provided, but it is not monotonic and so will be ignored when e.g. forecasting.\n",
      "  self._init_dates(dates, freq)\n",
      "/opt/anaconda3/envs/hack_env/lib/python3.10/site-packages/statsmodels/tsa/base/tsa_model.py:837: ValueWarning: No supported index is available. Prediction results will be given with an integer index beginning at `start`.\n",
      "  return get_prediction_index(\n",
      "/opt/anaconda3/envs/hack_env/lib/python3.10/site-packages/statsmodels/tsa/base/tsa_model.py:837: FutureWarning: No supported index is available. In the next version, calling this method in a model without a supported index will result in an exception.\n",
      "  return get_prediction_index(\n",
      "/opt/anaconda3/envs/hack_env/lib/python3.10/site-packages/statsmodels/tsa/base/tsa_model.py:473: ValueWarning: A date index has been provided, but it has no associated frequency information and so will be ignored when e.g. forecasting.\n",
      "  self._init_dates(dates, freq)\n",
      "/opt/anaconda3/envs/hack_env/lib/python3.10/site-packages/statsmodels/tsa/base/tsa_model.py:473: ValueWarning: A date index has been provided, but it is not monotonic and so will be ignored when e.g. forecasting.\n",
      "  self._init_dates(dates, freq)\n",
      "/opt/anaconda3/envs/hack_env/lib/python3.10/site-packages/statsmodels/tsa/base/tsa_model.py:473: ValueWarning: A date index has been provided, but it has no associated frequency information and so will be ignored when e.g. forecasting.\n",
      "  self._init_dates(dates, freq)\n",
      "/opt/anaconda3/envs/hack_env/lib/python3.10/site-packages/statsmodels/tsa/base/tsa_model.py:473: ValueWarning: A date index has been provided, but it is not monotonic and so will be ignored when e.g. forecasting.\n",
      "  self._init_dates(dates, freq)\n",
      "/opt/anaconda3/envs/hack_env/lib/python3.10/site-packages/statsmodels/tsa/base/tsa_model.py:473: ValueWarning: A date index has been provided, but it has no associated frequency information and so will be ignored when e.g. forecasting.\n",
      "  self._init_dates(dates, freq)\n",
      "/opt/anaconda3/envs/hack_env/lib/python3.10/site-packages/statsmodels/tsa/base/tsa_model.py:473: ValueWarning: A date index has been provided, but it is not monotonic and so will be ignored when e.g. forecasting.\n",
      "  self._init_dates(dates, freq)\n",
      "/opt/anaconda3/envs/hack_env/lib/python3.10/site-packages/statsmodels/tsa/base/tsa_model.py:837: ValueWarning: No supported index is available. Prediction results will be given with an integer index beginning at `start`.\n",
      "  return get_prediction_index(\n",
      "/opt/anaconda3/envs/hack_env/lib/python3.10/site-packages/statsmodels/tsa/base/tsa_model.py:837: FutureWarning: No supported index is available. In the next version, calling this method in a model without a supported index will result in an exception.\n",
      "  return get_prediction_index(\n",
      "/opt/anaconda3/envs/hack_env/lib/python3.10/site-packages/keras/src/layers/rnn/rnn.py:204: UserWarning: Do not pass an `input_shape`/`input_dim` argument to a layer. When using Sequential models, prefer using an `Input(shape)` object as the first layer in the model instead.\n",
      "  super().__init__(**kwargs)\n",
      "/opt/anaconda3/envs/hack_env/lib/python3.10/site-packages/statsmodels/tsa/base/tsa_model.py:473: ValueWarning: A date index has been provided, but it has no associated frequency information and so will be ignored when e.g. forecasting.\n",
      "  self._init_dates(dates, freq)\n",
      "/opt/anaconda3/envs/hack_env/lib/python3.10/site-packages/statsmodels/tsa/base/tsa_model.py:473: ValueWarning: A date index has been provided, but it is not monotonic and so will be ignored when e.g. forecasting.\n",
      "  self._init_dates(dates, freq)\n",
      "/opt/anaconda3/envs/hack_env/lib/python3.10/site-packages/statsmodels/tsa/base/tsa_model.py:473: ValueWarning: A date index has been provided, but it has no associated frequency information and so will be ignored when e.g. forecasting.\n",
      "  self._init_dates(dates, freq)\n",
      "/opt/anaconda3/envs/hack_env/lib/python3.10/site-packages/statsmodels/tsa/base/tsa_model.py:473: ValueWarning: A date index has been provided, but it is not monotonic and so will be ignored when e.g. forecasting.\n",
      "  self._init_dates(dates, freq)\n",
      "/opt/anaconda3/envs/hack_env/lib/python3.10/site-packages/statsmodels/tsa/base/tsa_model.py:473: ValueWarning: A date index has been provided, but it has no associated frequency information and so will be ignored when e.g. forecasting.\n",
      "  self._init_dates(dates, freq)\n",
      "/opt/anaconda3/envs/hack_env/lib/python3.10/site-packages/statsmodels/tsa/base/tsa_model.py:473: ValueWarning: A date index has been provided, but it is not monotonic and so will be ignored when e.g. forecasting.\n",
      "  self._init_dates(dates, freq)\n",
      "/opt/anaconda3/envs/hack_env/lib/python3.10/site-packages/statsmodels/tsa/base/tsa_model.py:837: ValueWarning: No supported index is available. Prediction results will be given with an integer index beginning at `start`.\n",
      "  return get_prediction_index(\n",
      "/opt/anaconda3/envs/hack_env/lib/python3.10/site-packages/statsmodels/tsa/base/tsa_model.py:837: FutureWarning: No supported index is available. In the next version, calling this method in a model without a supported index will result in an exception.\n",
      "  return get_prediction_index(\n",
      "/opt/anaconda3/envs/hack_env/lib/python3.10/site-packages/keras/src/layers/rnn/rnn.py:204: UserWarning: Do not pass an `input_shape`/`input_dim` argument to a layer. When using Sequential models, prefer using an `Input(shape)` object as the first layer in the model instead.\n",
      "  super().__init__(**kwargs)\n",
      "/opt/anaconda3/envs/hack_env/lib/python3.10/site-packages/keras/src/layers/rnn/rnn.py:204: UserWarning: Do not pass an `input_shape`/`input_dim` argument to a layer. When using Sequential models, prefer using an `Input(shape)` object as the first layer in the model instead.\n",
      "  super().__init__(**kwargs)\n"
     ]
    }
   ],
   "source": [
    "# Use last date from your dataset\n",
    "last_date = data.index.max()  # e.g., 2019-10-13\n",
    "\n",
    "# Generate next 3 months weekly dates\n",
    "forecast_steps = 12  # 12 weeks ≈ 3 months\n",
    "forecast_dates = pd.date_range(start=last_date + pd.Timedelta(days=7), periods=forecast_steps, freq='W')\n",
    "\n",
    "# Use these dates as index for forecast dataframe\n",
    "forecast_df = pd.DataFrame(index=forecast_dates)\n",
    "\n",
    "\n",
    "for col in data.columns:\n",
    "    series = data[col].dropna()\n",
    "    model_type = best_models[col]\n",
    "    \n",
    "    if model_type == \"ARIMA\":\n",
    "        forecast_df[col] = forecast_arima(series, steps=forecast_steps)\n",
    "    elif model_type == \"SARIMA\":\n",
    "        forecast_df[col] = forecast_sarima(series, steps=forecast_steps)\n",
    "    elif model_type == \"HW\":\n",
    "        forecast_df[col] = forecast_hw(series, steps=forecast_steps)\n",
    "    elif model_type == \"LSTM\":\n",
    "        forecast_df[col] = forecast_lstm(series, steps=forecast_steps)"
   ]
  },
  {
   "cell_type": "markdown",
   "metadata": {},
   "source": [
    "### Save Forecasted Data"
   ]
  },
  {
   "cell_type": "code",
   "execution_count": 17,
   "metadata": {},
   "outputs": [
    {
     "name": "stdout",
     "output_type": "stream",
     "text": [
      "✅ Forecasted 3 months weekly data saved to ../output/forecast_next_3_months.csv\n"
     ]
    }
   ],
   "source": [
    "forecast_df_reset = forecast_df.reset_index().rename(columns={'index':'datum'})\n",
    "forecast_df_reset['datum'] = forecast_df_reset['datum'].dt.strftime('%Y-%m-%d')\n",
    "forecast_df_reset.to_csv(\"../output/forecast_next_3_months.csv\", index=False)\n",
    "print(\"✅ Forecasted 3 months weekly data saved to ../output/forecast_weekly.csv\")"
   ]
  }
 ],
 "metadata": {
  "kernelspec": {
   "display_name": "Python 3.10 (hack_env)",
   "language": "python",
   "name": "hack_env"
  },
  "language_info": {
   "codemirror_mode": {
    "name": "ipython",
    "version": 3
   },
   "file_extension": ".py",
   "mimetype": "text/x-python",
   "name": "python",
   "nbconvert_exporter": "python",
   "pygments_lexer": "ipython3",
   "version": "3.10.18"
  }
 },
 "nbformat": 4,
 "nbformat_minor": 2
}
