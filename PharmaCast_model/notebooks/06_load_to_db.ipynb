{
 "cells": [
  {
   "cell_type": "markdown",
   "metadata": {},
   "source": [
    "# Moving both cleaned weekly data and forecasted weekly data into PostgreSQL"
   ]
  },
  {
   "cell_type": "markdown",
   "metadata": {},
   "source": [
    "### Imports"
   ]
  },
  {
   "cell_type": "code",
   "execution_count": 2,
   "metadata": {},
   "outputs": [],
   "source": [
    "import pandas as pd\n",
    "from sqlalchemy import create_engine"
   ]
  },
  {
   "cell_type": "markdown",
   "metadata": {},
   "source": [
    "### Load CSVs"
   ]
  },
  {
   "cell_type": "code",
   "execution_count": 6,
   "metadata": {},
   "outputs": [
    {
     "name": "stdout",
     "output_type": "stream",
     "text": [
      "Historical data:\n",
      "            datum  Antiinflammatory  Antirheumatic  Analgesics  Antipyretics  \\\n",
      "2014-01-05   14.0             11.67           21.3      185.95          41.0   \n",
      "2014-01-12  29.33             12.68           37.9      190.70          88.0   \n",
      "2014-01-19  30.67             26.34           45.9      218.40          80.0   \n",
      "2014-01-26   34.0             32.37           31.5      179.60          80.0   \n",
      "2014-02-02  31.02             23.35           20.7      159.88          84.0   \n",
      "\n",
      "            Psycholeptics  Sedatives  Bronchodilators  Antihistamines  \n",
      "2014-01-05            0.0       32.0              7.0             NaN  \n",
      "2014-01-12            5.0       21.0              7.2             NaN  \n",
      "2014-01-19            8.0       29.0             12.0             NaN  \n",
      "2014-01-26            8.0       23.0             10.0           34.00  \n",
      "2014-02-02           12.0       29.0             12.0           31.02  \n",
      "\n",
      "Forecast data:\n",
      "       datum  Antiinflammatory  Antirheumatic  Analgesics  Antipyretics  \\\n",
      "0 2019-10-20         23.298820      18.725016  143.091702     52.064040   \n",
      "1 2019-10-27         21.277253      18.847458  141.187188     50.109253   \n",
      "2 2019-11-03         22.094933      18.097223  141.262767     52.495632   \n",
      "3 2019-11-10         22.369321      17.160745  141.259768     51.465510   \n",
      "4 2019-11-17         20.383895      17.473797  141.259887     49.186222   \n",
      "\n",
      "   Psycholeptics  Sedatives  Bronchodilators  Antihistamines  \n",
      "0       2.692878  24.586498        11.673377       37.292206  \n",
      "1       5.799838  25.163131        11.168873       36.798264  \n",
      "2       6.679020  25.189548         9.893336       37.644627  \n",
      "3       3.083727  25.190759        10.961639       37.310112  \n",
      "4       4.115746  25.190814        11.766517       37.455330  \n"
     ]
    },
    {
     "name": "stderr",
     "output_type": "stream",
     "text": [
      "/var/folders/vp/2_mwt2_577d0yzkwp961ny140000gn/T/ipykernel_12778/2841515500.py:2: UserWarning: Could not infer format, so each element will be parsed individually, falling back to `dateutil`. To ensure parsing is consistent and as-expected, please specify a format.\n",
      "  historical = pd.read_csv(\"../input/named_data_cleaned.csv\", parse_dates=[\"datum\"])\n",
      "/var/folders/vp/2_mwt2_577d0yzkwp961ny140000gn/T/ipykernel_12778/2841515500.py:5: UserWarning: Parsing dates in %d-%m-%Y format when dayfirst=False (the default) was specified. Pass `dayfirst=True` or specify a format to silence this warning.\n",
      "  forecast = pd.read_csv(\"../output/forecast_next_3_months.csv\", parse_dates=[\"datum\"])\n"
     ]
    }
   ],
   "source": [
    "# Load cleaned historical weekly data\n",
    "historical = pd.read_csv(\"../input/named_data_cleaned.csv\", parse_dates=[\"datum\"])\n",
    "\n",
    "# Load forecasted weekly data\n",
    "forecast = pd.read_csv(\"../output/forecast_next_3_months.csv\", parse_dates=[\"datum\"])\n",
    "\n",
    "# Check first few rows\n",
    "print(\"Historical data:\")\n",
    "print(historical.head())\n",
    "print(\"\\nForecast data:\")\n",
    "print(forecast.head())"
   ]
  },
  {
   "cell_type": "markdown",
   "metadata": {},
   "source": [
    "### Connect to PostgreSQL"
   ]
  },
  {
   "cell_type": "code",
   "execution_count": 10,
   "metadata": {},
   "outputs": [
    {
     "name": "stdout",
     "output_type": "stream",
     "text": [
      "✅ PostgreSQL connection ready\n"
     ]
    }
   ],
   "source": [
    "# PostgreSQL connection details\n",
    "user = \"your_username\"      # Replace with your PostgreSQL username\n",
    "password = \"your_password\"  # Replace with your PostgreSQL password\n",
    "host = \"localhost\"          # Or your host\n",
    "port = \"5432\"               # Default PostgreSQL port\n",
    "database = \"your_database\"  # Replace with your database name\n",
    "\n",
    "# Create SQLAlchemy engine\n",
    "engine = create_engine(f\"postgresql+psycopg2://{user}:{password}@{host}:{port}/{database}\")\n",
    "\n",
    "print(\"✅ PostgreSQL connection ready\")"
   ]
  },
  {
   "cell_type": "markdown",
   "metadata": {},
   "source": [
    "### Push Historical Data"
   ]
  },
  {
   "cell_type": "code",
   "execution_count": 9,
   "metadata": {},
   "outputs": [
    {
     "name": "stdout",
     "output_type": "stream",
     "text": [
      "✅ Historical weekly data inserted into 'actual_data' table\n"
     ]
    }
   ],
   "source": [
    "# Insert historical weekly data into PostgreSQL\n",
    "historical.to_sql(\n",
    "    \"actual_data\",      # Table name\n",
    "    engine,\n",
    "    if_exists=\"replace\", # Use \"append\" if you want to add instead of replace\n",
    "    index=False\n",
    ")\n",
    "\n",
    "print(\"✅ Historical weekly data inserted into 'actual_data' table\")"
   ]
  },
  {
   "cell_type": "markdown",
   "metadata": {},
   "source": [
    "### Push Forecasted Data"
   ]
  },
  {
   "cell_type": "code",
   "execution_count": 8,
   "metadata": {},
   "outputs": [
    {
     "name": "stdout",
     "output_type": "stream",
     "text": [
      "✅ Forecasted weekly data inserted into 'forecast_data' table\n"
     ]
    }
   ],
   "source": [
    "# Insert forecasted weekly data into PostgreSQL\n",
    "forecast.to_sql(\n",
    "    \"forecast_data\",     # Table name\n",
    "    engine,\n",
    "    if_exists=\"replace\", # Use \"append\" if needed\n",
    "    index=False\n",
    ")\n",
    "\n",
    "print(\"✅ Forecasted weekly data inserted into 'forecast_data' table\")"
   ]
  },
  {
   "cell_type": "markdown",
   "metadata": {},
   "source": [
    "### Quick Verification"
   ]
  },
  {
   "cell_type": "code",
   "execution_count": 7,
   "metadata": {},
   "outputs": [
    {
     "name": "stdout",
     "output_type": "stream",
     "text": [
      "            datum  Antiinflammatory  Antirheumatic  Analgesics  Antipyretics  \\\n",
      "2014-01-05   14.0             11.67           21.3      185.95          41.0   \n",
      "2014-01-12  29.33             12.68           37.9      190.70          88.0   \n",
      "2014-01-19  30.67             26.34           45.9      218.40          80.0   \n",
      "2014-01-26   34.0             32.37           31.5      179.60          80.0   \n",
      "2014-02-02  31.02             23.35           20.7      159.88          84.0   \n",
      "\n",
      "            Psycholeptics  Sedatives  Bronchodilators  Antihistamines  \n",
      "2014-01-05            0.0       32.0              7.0             NaN  \n",
      "2014-01-12            5.0       21.0              7.2             NaN  \n",
      "2014-01-19            8.0       29.0             12.0             NaN  \n",
      "2014-01-26            8.0       23.0             10.0           34.00  \n",
      "2014-02-02           12.0       29.0             12.0           31.02  \n",
      "       datum  Antiinflammatory  Antirheumatic  Analgesics  Antipyretics  \\\n",
      "0 2019-10-20         23.298820      18.725016  143.091702     52.064040   \n",
      "1 2019-10-27         21.277253      18.847458  141.187188     50.109253   \n",
      "2 2019-11-03         22.094933      18.097223  141.262767     52.495632   \n",
      "3 2019-11-10         22.369321      17.160745  141.259768     51.465510   \n",
      "4 2019-11-17         20.383895      17.473797  141.259887     49.186222   \n",
      "\n",
      "   Psycholeptics  Sedatives  Bronchodilators  Antihistamines  \n",
      "0       2.692878  24.586498        11.673377       37.292206  \n",
      "1       5.799838  25.163131        11.168873       36.798264  \n",
      "2       6.679020  25.189548         9.893336       37.644627  \n",
      "3       3.083727  25.190759        10.961639       37.310112  \n",
      "4       4.115746  25.190814        11.766517       37.455330  \n"
     ]
    }
   ],
   "source": [
    "# Verify historical data\n",
    "with engine.connect() as conn:\n",
    "    result = conn.execute(\"SELECT * FROM actual_data LIMIT 5;\")\n",
    "    print(\"First 5 rows of actual_data:\")\n",
    "    for row in result:\n",
    "        print(row)\n",
    "\n",
    "# Verify forecast data\n",
    "with engine.connect() as conn:\n",
    "    result = conn.execute(\"SELECT * FROM forecast_data LIMIT 5;\")\n",
    "    print(\"\\nFirst 5 rows of forecast_data:\")\n",
    "    for row in result:\n",
    "        print(row)"
   ]
  }
 ],
 "metadata": {
  "kernelspec": {
   "display_name": "Python 3.10 (hack_env)",
   "language": "python",
   "name": "hack_env"
  },
  "language_info": {
   "codemirror_mode": {
    "name": "ipython",
    "version": 3
   },
   "file_extension": ".py",
   "mimetype": "text/x-python",
   "name": "python",
   "nbconvert_exporter": "python",
   "pygments_lexer": "ipython3",
   "version": "3.10.18"
  }
 },
 "nbformat": 4,
 "nbformat_minor": 2
}
